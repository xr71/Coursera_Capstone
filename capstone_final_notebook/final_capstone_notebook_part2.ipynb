{
 "cells": [
  {
   "cell_type": "markdown",
   "metadata": {},
   "source": [
    "# Final Capstone Notebook - Battle of Neighborhoods"
   ]
  },
  {
   "cell_type": "code",
   "execution_count": 1,
   "metadata": {},
   "outputs": [],
   "source": [
    "import pandas as pd\r\n",
    "import numpy as np\r\n",
    "import matplotlib.pyplot as plt\r\n",
    "import json\r\n",
    "import requests\r\n",
    "import os\r\n",
    "import sys\r\n",
    "import getpass"
   ]
  },
  {
   "cell_type": "code",
   "execution_count": 2,
   "metadata": {},
   "outputs": [],
   "source": [
    "client_id = getpass.getpass()"
   ]
  },
  {
   "cell_type": "code",
   "execution_count": 3,
   "metadata": {},
   "outputs": [],
   "source": [
    "client_secret = getpass.getpass()"
   ]
  },
  {
   "cell_type": "code",
   "execution_count": 4,
   "metadata": {},
   "outputs": [],
   "source": [
    "url = 'https://api.foursquare.com/v2/venues/explore'\r\n",
    "\r\n",
    "params = dict(\r\n",
    "    client_id=client_id,\r\n",
    "    client_secret=client_secret,\r\n",
    "    v='20180323',\r\n",
    "    ll='40.7243,-74.0018',\r\n",
    "    query='coffee',\r\n",
    "    limit=1\r\n",
    ")\r\n",
    "resp = requests.get(url=url, params=params)\r\n",
    "data = json.loads(resp.text)\r\n"
   ]
  },
  {
   "cell_type": "code",
   "execution_count": 5,
   "metadata": {},
   "outputs": [
    {
     "data": {
      "text/plain": "{'meta': {'code': 200, 'requestId': '60b818bf3dfca72bb44682f4'},\n 'response': {'suggestedFilters': {'header': 'Tap to show:',\n   'filters': [{'name': '$-$$$$', 'key': 'price'},\n    {'name': 'Open now', 'key': 'openNow'}]},\n  'warning': {'text': 'There aren\\'t a lot of results for \"coffee.\" Try something more general, reset your filters, or expand the search area.'},\n  'suggestedRadius': 600,\n  'headerLocation': 'SoHo',\n  'headerFullLocation': 'SoHo, New York',\n  'headerLocationGranularity': 'neighborhood',\n  'query': 'coffee',\n  'totalResults': 64,\n  'suggestedBounds': {'ne': {'lat': 40.727169470956085,\n    'lng': -74.00255064150711},\n   'sw': {'lat': 40.724469811170636, 'lng': -73.99983306744674}},\n  'groups': [{'type': 'Recommended Places',\n    'name': 'recommended',\n    'items': [{'reasons': {'count': 0,\n       'items': [{'summary': 'This spot is popular',\n         'type': 'general',\n         'reasonName': 'globalInteractionReason'}]},\n      'venue': {'id': '573498df498e6df2eb8b36a7',\n       'name': 'La Colombe Torrefaction',\n       'contact': {},\n       'location': {'address': '154 Prince St',\n        'crossStreet': 'btwn W Broadway & Thompson',\n        'lat': 40.72581964106336,\n        'lng': -74.00119185447693,\n        'labeledLatLngs': [{'label': 'display',\n          'lat': 40.72581964106336,\n          'lng': -74.00119185447693},\n         {'label': 'entrance', 'lat': 40.72582, 'lng': -74.001153}],\n        'distance': 176,\n        'postalCode': '10012',\n        'cc': 'US',\n        'city': 'New York',\n        'state': 'NY',\n        'country': 'United States',\n        'formattedAddress': ['154 Prince St (btwn W Broadway & Thompson)',\n         'New York, NY 10012',\n         'United States']},\n       'categories': [{'id': '4bf58dd8d48988d1e0931735',\n         'name': 'Coffee Shop',\n         'pluralName': 'Coffee Shops',\n         'shortName': 'Coffee Shop',\n         'icon': {'prefix': 'https://ss3.4sqi.net/img/categories_v2/food/coffeeshop_',\n          'suffix': '.png'},\n         'primary': True}],\n       'verified': False,\n       'stats': {'tipCount': 0,\n        'usersCount': 0,\n        'checkinsCount': 0,\n        'visitsCount': 0},\n       'delivery': {'id': '2075401',\n        'url': 'https://www.seamless.com/menu/la-colombe-154-prince-street-new-york/2075401?affiliate=1131&utm_source=foursquare-affiliate-network&utm_medium=affiliate&utm_campaign=1131&utm_content=2075401',\n        'provider': {'name': 'seamless',\n         'icon': {'prefix': 'https://fastly.4sqi.net/img/general/cap/',\n          'sizes': [40, 50],\n          'name': '/delivery_provider_seamless_20180129.png'}}},\n       'beenHere': {'count': 0,\n        'lastCheckinExpiredAt': 0,\n        'marked': False,\n        'unconfirmedCount': 0},\n       'photos': {'count': 0, 'groups': []},\n       'hereNow': {'count': 0, 'summary': 'Nobody here', 'groups': []}},\n      'referralId': 'e-0-573498df498e6df2eb8b36a7-0'}]}]}}"
     },
     "execution_count": 5,
     "metadata": {},
     "output_type": "execute_result"
    }
   ],
   "source": [
    "data"
   ]
  },
  {
   "cell_type": "code",
   "execution_count": null,
   "metadata": {},
   "outputs": [],
   "source": []
  }
 ],
 "metadata": {
  "language_info": {},
  "orig_nbformat": 3
 },
 "nbformat": 4,
 "nbformat_minor": 4
}