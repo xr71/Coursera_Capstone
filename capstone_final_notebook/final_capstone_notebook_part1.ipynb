{
 "cells": [
  {
   "cell_type": "markdown",
   "metadata": {},
   "source": [
    "# Capstone-Project | The Battle of Neighborhoods - Week 1\r\n",
    "  \r\n",
    "For IBM Applied Data Science"
   ]
  },
  {
   "cell_type": "markdown",
   "metadata": {},
   "source": [
    "## Problem Description and Background\r\n",
    "\r\n",
    "Boba, Bubble Tea, Pearl Milk Tea; delicious by any name. What is one to do if he or she is moving to a new country and needs to find the best places for bubble tea availability and fitting within the monthly budget for rent?  \r\n",
    "\r\n",
    "Singapore is a vibrant nation, but as its prominence in being a regional center in Asia, a logistics hub, as well as a financial powerhouse, the cost of living is not always on the cozy side of one's budget. At the same time, one cannot simply give up participating in the bubble tea culture of the city state that has swept the world from Taiwan to the US.  \r\n",
    "\r\n",
    "This project is highly relevant for me, as I recently moved to Singapore, and would like a dynamic solution to visualize rent, cluster neighborhoods, and know the best area for balancing between cost and availability of bubble tea. This project can also assist many others in deciding how to best organize their residential needs with their needs for a cup of pearls (enjoy this heartwarming article on the power of bubble tea during a pandemic lockdown: https://mothership.sg/2021/02/shn-post-its-bubble-tea/)"
   ]
  },
  {
   "cell_type": "markdown",
   "metadata": {},
   "source": [
    "## Data and Solution Proposal\r\n",
    "\r\n",
    "In this project, we will be using live neighborhood rent data from the Singaporean Government's API, and join it with venue data from Foursquare about bubble tea establishments. The data from https://data.gov.sg/dataset/median-rent-by-town-and-flat-type will provide us with median rent by unit type as well as provide us with a unique set of all neighborhood names in Singapore, which will enable us to search venues in Foursquare by neighborhoods.  \r\n",
    "\r\n",
    "The availability of this data as a RESTful API is fantastic as we can extract it using the same workflow in Python, and converting the JSON response into Dicts that can be easily passed as parameters to Foursquare, Folium, and other Python packages that we will be using. We will use this data to query Foursquare to derive metadata on bubble tea venues within each neighborhood; we can enrich our final modeling dataset with various attributes, ratings, visits, and even comments or sentiments.  \r\n",
    "\r\n"
   ]
  }
 ],
 "metadata": {
  "kernelspec": {
   "display_name": "Python 3.7.10 64-bit ('base': conda)",
   "name": "python3710jvsc74a57bd0b00ea5b8bfb56b7f11ada835cbe074e4d2a5d2101d768f2cc808507ebbe66cc3"
  },
  "language_info": {
   "name": "python",
   "version": ""
  },
  "orig_nbformat": 2
 },
 "nbformat": 4,
 "nbformat_minor": 2
}